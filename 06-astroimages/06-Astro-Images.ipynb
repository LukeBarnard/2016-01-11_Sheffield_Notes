{
 "cells": [
  {
   "cell_type": "code",
   "execution_count": null,
   "metadata": {
    "autoscroll": "json-false",
    "collapsed": false,
    "ein.tags": [
     "worksheet-0"
    ]
   },
   "outputs": [],
   "source": [
    "from __future__ import division,print_function"
   ]
  },
  {
   "cell_type": "markdown",
   "metadata": {
    "ein.tags": [
     "worksheet-0"
    ]
   },
   "source": [
    "# Images in Astronomy"
   ]
  },
  {
   "cell_type": "markdown",
   "metadata": {
    "ein.tags": [
     "worksheet-0"
    ]
   },
   "source": [
    "In this lesson we are going to look at aspects of processing and viewing images specific to Astronomy and Solar Astronomy. By the end of this lesson you should understand:\n",
    "\n",
    "* Projected Coordinate Systems in Images\n",
    "* World Coordinate Systems\n",
    "* Using WCS to calculate coordinates in images\n",
    "* Plotting images with WCS in images\n",
    "* Using SunPy Map"
   ]
  },
  {
   "cell_type": "markdown",
   "metadata": {
    "ein.tags": [
     "worksheet-0"
    ]
   },
   "source": [
    "## Projected Coordinate Systems"
   ]
  },
  {
   "cell_type": "markdown",
   "metadata": {
    "ein.tags": [
     "worksheet-0"
    ]
   },
   "source": [
    "When taking images of the sky, we are projecting the spherical celestial coordinate system onto a 2-dimensional plane, which means that there is no simple linear relation between pixel coordinates and celestial coordinates\n",
    "\n",
    "There are multiple coordinate systems used to describe the locations in 2D and 3D space for both Astronomy and Solar Physics. We shall use a couple of these systems here as examples but if you want to know more about them there are many of resources avalible."
   ]
  },
  {
   "cell_type": "markdown",
   "metadata": {
    "ein.tags": [
     "worksheet-0"
    ]
   },
   "source": [
    "### World Coordinate System"
   ]
  },
  {
   "cell_type": "markdown",
   "metadata": {
    "ein.tags": [
     "worksheet-0"
    ]
   },
   "source": [
    "The FITS files have a standard for describing the physical coordinate system associated with imaging data, this is called the world coordinate system or WCS, sometimes the specific FITS version of this is referred to as FITS-WCS.\n",
    "\n",
    "There are multiple papers describing the FITS-WCS standard for various types of data, there is a list here: http://fits.gsfc.nasa.gov/fits_wcs.html"
   ]
  },
  {
   "cell_type": "markdown",
   "metadata": {
    "ein.tags": [
     "worksheet-0"
    ]
   },
   "source": [
    "As you learned in the previous lesson we can load FITS files with Astropy. To demonstrate a simple example of a FITS file with FITS-WCS information in the header we shall use an image from SunPy:"
   ]
  },
  {
   "cell_type": "code",
   "execution_count": null,
   "metadata": {
    "autoscroll": "json-false",
    "collapsed": false,
    "ein.tags": [
     "worksheet-0"
    ],
    "scrolled": true
   },
   "outputs": [],
   "source": [
    "import sunpy.data\n",
    "sunpy.data.download_sample_data()\n",
    "\n",
    "from astropy.io import fits\n",
    "from sunpy.data.sample import AIA_171_ROLL_IMAGE\n",
    "hdulist = fits.open(AIA_171_ROLL_IMAGE)\n",
    "\n",
    "hdulist.info()\n",
    "hdu = hdulist[0]\n",
    "hdu\n",
    "hdu.header"
   ]
  },
  {
   "cell_type": "markdown",
   "metadata": {
    "ein.tags": [
     "worksheet-0"
    ]
   },
   "source": [
    "As you can see there are lots of keys in this and most other real world FITS headers. The ones we need to understand for FITS-WCS are:"
   ]
  },
  {
   "cell_type": "markdown",
   "metadata": {
    "ein.tags": [
     "worksheet-0"
    ]
   },
   "source": [
    "Reference Pixel and Coordinate:"
   ]
  },
  {
   "cell_type": "code",
   "execution_count": null,
   "metadata": {
    "autoscroll": "json-false",
    "collapsed": false,
    "ein.tags": [
     "worksheet-0"
    ],
    "scrolled": true
   },
   "outputs": [],
   "source": [
    "header = hdulist[0].header\n",
    "\n",
    "print(header['CRVAL1'],header['CRVAL2'])\n",
    "print(header['CRPIX1'],header['CRPIX2'])"
   ]
  },
  {
   "cell_type": "markdown",
   "metadata": {
    "ein.tags": [
     "worksheet-0"
    ]
   },
   "source": [
    "Pixel resolution (at the reference pixel):"
   ]
  },
  {
   "cell_type": "code",
   "execution_count": null,
   "metadata": {
    "autoscroll": "json-false",
    "collapsed": false,
    "ein.tags": [
     "worksheet-0"
    ]
   },
   "outputs": [],
   "source": [
    "print(header['CDELT1'],header['CDELT2'])"
   ]
  },
  {
   "cell_type": "markdown",
   "metadata": {
    "ein.tags": [
     "worksheet-0"
    ]
   },
   "source": [
    "Rotation angle, in degress (at the reference pixel):"
   ]
  },
  {
   "cell_type": "code",
   "execution_count": null,
   "metadata": {
    "autoscroll": "json-false",
    "collapsed": false,
    "ein.tags": [
     "worksheet-0"
    ]
   },
   "outputs": [],
   "source": [
    "print(header['CROTA2'])"
   ]
  },
  {
   "cell_type": "markdown",
   "metadata": {
    "ein.tags": [
     "worksheet-0"
    ]
   },
   "source": [
    "Coordinate System and Projection:"
   ]
  },
  {
   "cell_type": "code",
   "execution_count": null,
   "metadata": {
    "autoscroll": "json-false",
    "collapsed": false,
    "ein.tags": [
     "worksheet-0"
    ]
   },
   "outputs": [],
   "source": [
    "print(header['CTYPE1'],header['CTYPE2'])"
   ]
  },
  {
   "cell_type": "markdown",
   "metadata": {},
   "source": [
    "<section class=\"objectives panel panel-success\">\n",
    "<div class=\"panel-heading\">\n",
    "<h2><span class=\"fa fa-pencil\"></span> Keyword Extraction </h2>\n",
    "</div>\n",
    "\n",
    "Extract and print out the `TELESCOP` value from the header.\n",
    "\n",
    "Next, extract the `WAVELNTH` and `WAVEUNIT` values, use these to construct an astropy Quantity object for the wavelength of this image.\n",
    "\n",
    "\n"
   ]
  },
  {
   "cell_type": "code",
   "execution_count": null,
   "metadata": {
    "collapsed": false
   },
   "outputs": [],
   "source": [
    "from astropy import units as u\n",
    "\n",
    "print(header['TELESCOP'])\n",
    "u.Quantity(header['WAVELNTH'],header['WAVEUNIT'])\n",
    "\n",
    "\n"
   ]
  },
  {
   "cell_type": "code",
   "execution_count": null,
   "metadata": {
    "collapsed": false
   },
   "outputs": [],
   "source": [
    "header"
   ]
  },
  {
   "cell_type": "markdown",
   "metadata": {
    "ein.tags": [
     "worksheet-0"
    ]
   },
   "source": [
    "We could now sit down and work out how to convert from a pixel coordinate to a physical coordinate described by this header (Helioprojective).\n",
    "\n",
    "However, we can cheat and just use Astropy."
   ]
  },
  {
   "cell_type": "code",
   "execution_count": null,
   "metadata": {
    "autoscroll": "json-false",
    "collapsed": false,
    "ein.tags": [
     "worksheet-0"
    ]
   },
   "outputs": [],
   "source": [
    "from astropy.wcs import WCS\n",
    "\n",
    "wcs = WCS(header)\n",
    "wcs"
   ]
  },
  {
   "cell_type": "markdown",
   "metadata": {
    "ein.tags": [
     "worksheet-0"
    ]
   },
   "source": [
    "We can convert from pixel to world coordinate:"
   ]
  },
  {
   "cell_type": "code",
   "execution_count": null,
   "metadata": {
    "autoscroll": "json-false",
    "collapsed": false,
    "ein.tags": [
     "worksheet-0"
    ]
   },
   "outputs": [],
   "source": [
    "wcs.all_pix2world([[300,300]],0)"
   ]
  },
  {
   "cell_type": "markdown",
   "metadata": {
    "ein.tags": [
     "worksheet-0"
    ]
   },
   "source": [
    "Or back again:"
   ]
  },
  {
   "cell_type": "code",
   "execution_count": null,
   "metadata": {
    "autoscroll": "json-false",
    "collapsed": false,
    "ein.tags": [
     "worksheet-0"
    ]
   },
   "outputs": [],
   "source": [
    "wcs.all_world2pix([[  3.59587957e+02,   5.18354457e-04]],0)"
   ]
  },
  {
   "cell_type": "markdown",
   "metadata": {
    "ein.tags": [
     "worksheet-0"
    ]
   },
   "source": [
    "The last parameter to the two above examples is the 'origin' parameter. It is a flag that tells WCS if you indexes should be 0-based (like numpy) or 1-based (like FITS).\n",
    "Here we are using 0 as we want to convert to and from numpy indexes of the array."
   ]
  },
  {
   "cell_type": "markdown",
   "metadata": {
    "ein.tags": [
     "worksheet-0"
    ]
   },
   "source": [
    "<section class=\"objectives panel panel-success\">\n",
    "<div class=\"panel-heading\">\n",
    "<h2><span class=\"fa fa-pencil\"></span> How large is the image? </h2>\n",
    "</div>\n",
    "<br/>\n",
    "To get a little practise using Astropy's WCS calculate the world coordinates of the following pixels:\n",
    "<code>\n",
    "[-500, 0]\n",
    "[500, 500]\n",
    "[0, 0]\n",
    "</code>\n",
    "<br/>\n",
    "</section>"
   ]
  },
  {
   "cell_type": "code",
   "execution_count": null,
   "metadata": {
    "autoscroll": "json-false",
    "collapsed": false,
    "ein.tags": [
     "worksheet-0"
    ]
   },
   "outputs": [],
   "source": [
    "print(wcs.all_pix2world([[-500,0]],0))\n",
    "print(wcs.all_pix2world([[500,500]],0))\n",
    "print(wcs.all_pix2world([[0,0]],0))\n"
   ]
  },
  {
   "cell_type": "markdown",
   "metadata": {
    "ein.tags": [
     "worksheet-0"
    ]
   },
   "source": [
    "## Plotting with wcsaxes"
   ]
  },
  {
   "cell_type": "markdown",
   "metadata": {
    "ein.tags": [
     "worksheet-0"
    ]
   },
   "source": [
    "In this section we are going to use the wcsaxes package to make WCS aware image plots."
   ]
  },
  {
   "cell_type": "code",
   "execution_count": null,
   "metadata": {
    "autoscroll": "json-false",
    "collapsed": false,
    "ein.tags": [
     "worksheet-0"
    ]
   },
   "outputs": [],
   "source": [
    "import wcsaxes"
   ]
  },
  {
   "cell_type": "markdown",
   "metadata": {
    "ein.tags": [
     "worksheet-0"
    ]
   },
   "source": [
    "For this example we are going to use a Hubble image."
   ]
  },
  {
   "cell_type": "code",
   "execution_count": null,
   "metadata": {
    "autoscroll": "json-false",
    "collapsed": false,
    "ein.tags": [
     "worksheet-0"
    ]
   },
   "outputs": [],
   "source": [
    "from astropy.io import fits\n",
    "hdulist = fits.open('./h_n4571_f555_mosaic.fits.gz')\n",
    "hdulist.info()"
   ]
  },
  {
   "cell_type": "code",
   "execution_count": null,
   "metadata": {
    "autoscroll": "json-false",
    "collapsed": false,
    "ein.tags": [
     "worksheet-0"
    ]
   },
   "outputs": [],
   "source": [
    "wcs = WCS(hdulist[0].header)"
   ]
  },
  {
   "cell_type": "code",
   "execution_count": null,
   "metadata": {
    "autoscroll": "json-false",
    "collapsed": false,
    "ein.tags": [
     "worksheet-0"
    ]
   },
   "outputs": [],
   "source": [
    "%matplotlib nbagg\n",
    "import matplotlib.pyplot as plt"
   ]
  },
  {
   "cell_type": "code",
   "execution_count": null,
   "metadata": {
    "autoscroll": "json-false",
    "collapsed": false,
    "ein.tags": [
     "worksheet-0"
    ]
   },
   "outputs": [],
   "source": [
    "ax = plt.subplot(111, projection=wcs)\n",
    "ax.imshow(hdulist[0]w.data,cmap='gray',vmax=1000,interpolation='none')\n",
    "\n"
   ]
  },
  {
   "cell_type": "markdown",
   "metadata": {
    "ein.tags": [
     "worksheet-0"
    ]
   },
   "source": [
    "This image now has physcial labels in the native coordinate system of the image. We can see what the coordinate system and projection of this image is using the 'CTYPE' header entries we saw earlier."
   ]
  },
  {
   "cell_type": "code",
   "execution_count": null,
   "metadata": {
    "autoscroll": "json-false",
    "collapsed": false,
    "ein.tags": [
     "worksheet-0"
    ]
   },
   "outputs": [],
   "source": [
    "print(hdulist[0].header['CTYPE1'],hdulist[0].header['CTYPE2'])"
   ]
  },
  {
   "cell_type": "markdown",
   "metadata": {
    "ein.tags": [
     "worksheet-0"
    ]
   },
   "source": [
    "We can tell that this is in the FK5 coordinate system by the presence of a 'equinox' entry in the header:"
   ]
  },
  {
   "cell_type": "code",
   "execution_count": null,
   "metadata": {
    "autoscroll": "json-false",
    "collapsed": false,
    "ein.tags": [
     "worksheet-0"
    ]
   },
   "outputs": [],
   "source": [
    "hdulist[0].header['equinox']"
   ]
  },
  {
   "cell_type": "markdown",
   "metadata": {
    "ein.tags": [
     "worksheet-0"
    ]
   },
   "source": [
    "There is also a quick way to generate an Astropy coordinate frame from a WCS object, which confirms this diagnosis."
   ]
  },
  {
   "cell_type": "code",
   "execution_count": null,
   "metadata": {
    "autoscroll": "json-false",
    "collapsed": false,
    "ein.tags": [
     "worksheet-0"
    ]
   },
   "outputs": [],
   "source": [
    "from astropy.wcs.utils import wcs_to_celestial_frame\n",
    "wcs_to_celestial_frame(wcs)"
   ]
  },
  {
   "cell_type": "markdown",
   "metadata": {
    "ein.tags": [
     "worksheet-0"
    ]
   },
   "source": [
    "for more information on the very useful `astropy.coordinates` module see http://docs.astropy.org/en/stable/coordinates/"
   ]
  },
  {
   "cell_type": "markdown",
   "metadata": {
    "ein.tags": [
     "worksheet-0"
    ]
   },
   "source": [
    "<section class=\"objectives panel panel-success\">\n",
    "<div class=\"panel-heading\">\n",
    "<h2><span class=\"fa fa-pencil\"></span> Add some labels </h2>\n",
    "</div>\n",
    "<br/>\n",
    "Now we have a nice plot with physically meaningful ticks, we should label our axes.\n",
    "<br/>\n",
    "\n",
    "Add labels to the axes saying \"Right Ascension [degrees]\" and \"Declination [degrees]\"\n",
    "<br/>\n",
    "\n",
    "Also overlay a coordinate grid using:\n",
    "<code>ax.coords.grid()</code>\n",
    "Look up the documentation for this method to see what parameters you can specify.\n",
    "<br/>\n",
    "</section>"
   ]
  },
  {
   "cell_type": "code",
   "execution_count": null,
   "metadata": {
    "autoscroll": "json-false",
    "collapsed": false,
    "ein.tags": [
     "worksheet-0"
    ],
    "scrolled": true
   },
   "outputs": [],
   "source": [
    "ax = plt.subplot(111, projection=wcs)\n",
    "ax.imshow(hdulist[0].data,cmap='gray',vmax=1000,interpolation='none',origin='lower')\n",
    "ax.set_xlabel('Right Ascension [degrees]')\n",
    "ax.set_ylabel('Declination [degrees]')\n",
    "ax.coords[0].set_ticks(spacing=1*u.arcmin)\n",
    "ax.coords[1].set_ticks(spacing=1*u.arcmin)\n",
    "ax.coords.grid(color='orange',linewidth=2,linestyle='-')\n",
    "\n",
    "overlay = ax.get_coords_overlay('galactic')\n",
    "overlay.grid(color='cyan',linestyle='--')\n",
    "overlay['l'].set_axislabel(\"Galactic Longitude [degrees]\")\n",
    "overlay['b'].set_axislabel(\"Galactic Latitude [degrees]\")\n"
   ]
  },
  {
   "cell_type": "markdown",
   "metadata": {
    "ein.tags": [
     "worksheet-0"
    ]
   },
   "source": [
    "Now we have a nice plot, we can do a couple of things to plot."
   ]
  },
  {
   "cell_type": "markdown",
   "metadata": {
    "ein.tags": [
     "worksheet-0"
    ]
   },
   "source": [
    "### Overplotting in Pixel Coordinates"
   ]
  },
  {
   "cell_type": "code",
   "execution_count": null,
   "metadata": {
    "autoscroll": "json-false",
    "collapsed": false,
    "ein.tags": [
     "worksheet-0"
    ]
   },
   "outputs": [],
   "source": []
  },
  {
   "cell_type": "markdown",
   "metadata": {
    "ein.tags": [
     "worksheet-0"
    ]
   },
   "source": [
    "### Overplotting in World Coordinates"
   ]
  },
  {
   "cell_type": "code",
   "execution_count": null,
   "metadata": {
    "autoscroll": "json-false",
    "collapsed": false,
    "ein.tags": [
     "worksheet-0"
    ]
   },
   "outputs": [],
   "source": [
    "# Overplot in FK5 in Degrees\n"
   ]
  },
  {
   "cell_type": "markdown",
   "metadata": {
    "ein.tags": [
     "worksheet-0"
    ]
   },
   "source": [
    "<section class=\"objectives panel panel-success\">\n",
    "<div class=\"panel-heading\">\n",
    "<h2><span class=\"fa fa-pencil\"></span> Add some labels </h2>\n",
    "</div>\n",
    "\n",
    "Now overplot two lines on the image, one where you specified the line in pixel coordinates, and one where you specified the line in FK5 world coordinates.\n",
    "\n",
    "</section>"
   ]
  },
  {
   "cell_type": "code",
   "execution_count": null,
   "metadata": {
    "collapsed": false
   },
   "outputs": [],
   "source": [
    "# Overplot in FK5 in Degrees\n"
   ]
  },
  {
   "cell_type": "markdown",
   "metadata": {},
   "source": [
    "###  Overplotting Another Coordinate System"
   ]
  },
  {
   "cell_type": "code",
   "execution_count": null,
   "metadata": {
    "autoscroll": "json-false",
    "collapsed": false,
    "ein.tags": [
     "worksheet-0"
    ]
   },
   "outputs": [],
   "source": []
  },
  {
   "cell_type": "markdown",
   "metadata": {
    "ein.tags": [
     "worksheet-0"
    ]
   },
   "source": [
    "## SunPy Map"
   ]
  },
  {
   "cell_type": "markdown",
   "metadata": {
    "ein.tags": [
     "worksheet-0"
    ]
   },
   "source": [
    "The SunPy Map class is a wrapper for solar images which makes some of the above opertations easier."
   ]
  },
  {
   "cell_type": "code",
   "execution_count": 1,
   "metadata": {
    "autoscroll": "json-false",
    "collapsed": false,
    "ein.tags": [
     "worksheet-0"
    ]
   },
   "outputs": [
    {
     "name": "stderr",
     "output_type": "stream",
     "text": [
      "WARNING: AstropyDeprecationWarning: Config parameter 'name_resolve_timeout' in section [coordinates.name_resolve] of the file 'C:\\Users\\Luke\\.astropy\\config\\astropy.cfg' is deprecated. Use 'remote_timeout' in section [utils.data] instead. [astropy.config.configuration]\n",
      "WARNING:astropy:AstropyDeprecationWarning: Config parameter 'name_resolve_timeout' in section [coordinates.name_resolve] of the file 'C:\\Users\\Luke\\.astropy\\config\\astropy.cfg' is deprecated. Use 'remote_timeout' in section [utils.data] instead.\n",
      "WARNING: AstropyDeprecationWarning: Config parameter 'remote_timeout' in section [utils.data] of the file 'C:\\Users\\Luke\\.astropy\\config\\astropy.cfg' is given by more than one alias (astropy.utils.data.remote_timeout, coordinates.name_resolve.name_resolve_timeout). Using the first. [astropy.config.configuration]\n",
      "WARNING:astropy:AstropyDeprecationWarning: Config parameter 'remote_timeout' in section [utils.data] of the file 'C:\\Users\\Luke\\.astropy\\config\\astropy.cfg' is given by more than one alias (astropy.utils.data.remote_timeout, coordinates.name_resolve.name_resolve_timeout). Using the first.\n",
      "C:\\Users\\Luke\\Anaconda2\\lib\\site-packages\\glymur\\lib\\config.py:151: UserWarning: Neither the openjp2 nor the openjpeg library could be loaded.  \n",
      "  warnings.warn(msg)\n",
      "WARNING: AstropyDeprecationWarning: Config parameter 'enabled_record_valued_keyword_cards' in section [io.fits] of the file 'C:\\Users\\Luke\\.astropy\\config\\astropy.cfg' is deprecated. Use 'enable_record_valued_keyword_cards' in section [io.fits] instead. [astropy.config.configuration]\n",
      "WARNING:astropy:AstropyDeprecationWarning: Config parameter 'enabled_record_valued_keyword_cards' in section [io.fits] of the file 'C:\\Users\\Luke\\.astropy\\config\\astropy.cfg' is deprecated. Use 'enable_record_valued_keyword_cards' in section [io.fits] instead.\n"
     ]
    }
   ],
   "source": [
    "import sunpy.map\n",
    "from sunpy.data.sample import AIA_171_ROLL_IMAGE\n",
    "\n",
    "amap = sunpy.map.Map(AIA_171_ROLL_IMAGE)\n",
    "amap.peek()"
   ]
  },
  {
   "cell_type": "markdown",
   "metadata": {
    "ein.tags": [
     "worksheet-0"
    ]
   },
   "source": [
    "This has done a quick plot of the test image `AIA_171_ROLL_IMAGE` using wcsaxes.\n",
    "If we want to customise the plot we use the `plot()` method."
   ]
  },
  {
   "cell_type": "code",
   "execution_count": 2,
   "metadata": {
    "autoscroll": "json-false",
    "collapsed": false,
    "ein.tags": [
     "worksheet-0"
    ]
   },
   "outputs": [],
   "source": [
    "import astropy.units as u\n",
    "import matplotlib.pyplot as plt\n",
    "%matplotlib inline\n",
    "%matplotlib nbagg"
   ]
  },
  {
   "cell_type": "code",
   "execution_count": 4,
   "metadata": {
    "autoscroll": "json-false",
    "collapsed": false,
    "ein.tags": [
     "worksheet-0"
    ]
   },
   "outputs": [
    {
     "data": {
      "application/javascript": [
       "/* Put everything inside the global mpl namespace */\n",
       "window.mpl = {};\n",
       "\n",
       "mpl.get_websocket_type = function() {\n",
       "    if (typeof(WebSocket) !== 'undefined') {\n",
       "        return WebSocket;\n",
       "    } else if (typeof(MozWebSocket) !== 'undefined') {\n",
       "        return MozWebSocket;\n",
       "    } else {\n",
       "        alert('Your browser does not have WebSocket support.' +\n",
       "              'Please try Chrome, Safari or Firefox ≥ 6. ' +\n",
       "              'Firefox 4 and 5 are also supported but you ' +\n",
       "              'have to enable WebSockets in about:config.');\n",
       "    };\n",
       "}\n",
       "\n",
       "mpl.figure = function(figure_id, websocket, ondownload, parent_element) {\n",
       "    this.id = figure_id;\n",
       "\n",
       "    this.ws = websocket;\n",
       "\n",
       "    this.supports_binary = (this.ws.binaryType != undefined);\n",
       "\n",
       "    if (!this.supports_binary) {\n",
       "        var warnings = document.getElementById(\"mpl-warnings\");\n",
       "        if (warnings) {\n",
       "            warnings.style.display = 'block';\n",
       "            warnings.textContent = (\n",
       "                \"This browser does not support binary websocket messages. \" +\n",
       "                    \"Performance may be slow.\");\n",
       "        }\n",
       "    }\n",
       "\n",
       "    this.imageObj = new Image();\n",
       "\n",
       "    this.context = undefined;\n",
       "    this.message = undefined;\n",
       "    this.canvas = undefined;\n",
       "    this.rubberband_canvas = undefined;\n",
       "    this.rubberband_context = undefined;\n",
       "    this.format_dropdown = undefined;\n",
       "\n",
       "    this.image_mode = 'full';\n",
       "\n",
       "    this.root = $('<div/>');\n",
       "    this._root_extra_style(this.root)\n",
       "    this.root.attr('style', 'display: inline-block');\n",
       "\n",
       "    $(parent_element).append(this.root);\n",
       "\n",
       "    this._init_header(this);\n",
       "    this._init_canvas(this);\n",
       "    this._init_toolbar(this);\n",
       "\n",
       "    var fig = this;\n",
       "\n",
       "    this.waiting = false;\n",
       "\n",
       "    this.ws.onopen =  function () {\n",
       "            fig.send_message(\"supports_binary\", {value: fig.supports_binary});\n",
       "            fig.send_message(\"send_image_mode\", {});\n",
       "            fig.send_message(\"refresh\", {});\n",
       "        }\n",
       "\n",
       "    this.imageObj.onload = function() {\n",
       "            if (fig.image_mode == 'full') {\n",
       "                // Full images could contain transparency (where diff images\n",
       "                // almost always do), so we need to clear the canvas so that\n",
       "                // there is no ghosting.\n",
       "                fig.context.clearRect(0, 0, fig.canvas.width, fig.canvas.height);\n",
       "            }\n",
       "            fig.context.drawImage(fig.imageObj, 0, 0);\n",
       "        };\n",
       "\n",
       "    this.imageObj.onunload = function() {\n",
       "        this.ws.close();\n",
       "    }\n",
       "\n",
       "    this.ws.onmessage = this._make_on_message_function(this);\n",
       "\n",
       "    this.ondownload = ondownload;\n",
       "}\n",
       "\n",
       "mpl.figure.prototype._init_header = function() {\n",
       "    var titlebar = $(\n",
       "        '<div class=\"ui-dialog-titlebar ui-widget-header ui-corner-all ' +\n",
       "        'ui-helper-clearfix\"/>');\n",
       "    var titletext = $(\n",
       "        '<div class=\"ui-dialog-title\" style=\"width: 100%; ' +\n",
       "        'text-align: center; padding: 3px;\"/>');\n",
       "    titlebar.append(titletext)\n",
       "    this.root.append(titlebar);\n",
       "    this.header = titletext[0];\n",
       "}\n",
       "\n",
       "\n",
       "\n",
       "mpl.figure.prototype._canvas_extra_style = function(canvas_div) {\n",
       "\n",
       "}\n",
       "\n",
       "\n",
       "mpl.figure.prototype._root_extra_style = function(canvas_div) {\n",
       "\n",
       "}\n",
       "\n",
       "mpl.figure.prototype._init_canvas = function() {\n",
       "    var fig = this;\n",
       "\n",
       "    var canvas_div = $('<div/>');\n",
       "\n",
       "    canvas_div.attr('style', 'position: relative; clear: both; outline: 0');\n",
       "\n",
       "    function canvas_keyboard_event(event) {\n",
       "        return fig.key_event(event, event['data']);\n",
       "    }\n",
       "\n",
       "    canvas_div.keydown('key_press', canvas_keyboard_event);\n",
       "    canvas_div.keyup('key_release', canvas_keyboard_event);\n",
       "    this.canvas_div = canvas_div\n",
       "    this._canvas_extra_style(canvas_div)\n",
       "    this.root.append(canvas_div);\n",
       "\n",
       "    var canvas = $('<canvas/>');\n",
       "    canvas.addClass('mpl-canvas');\n",
       "    canvas.attr('style', \"left: 0; top: 0; z-index: 0; outline: 0\")\n",
       "\n",
       "    this.canvas = canvas[0];\n",
       "    this.context = canvas[0].getContext(\"2d\");\n",
       "\n",
       "    var rubberband = $('<canvas/>');\n",
       "    rubberband.attr('style', \"position: absolute; left: 0; top: 0; z-index: 1;\")\n",
       "\n",
       "    var pass_mouse_events = true;\n",
       "\n",
       "    canvas_div.resizable({\n",
       "        start: function(event, ui) {\n",
       "            pass_mouse_events = false;\n",
       "        },\n",
       "        resize: function(event, ui) {\n",
       "            fig.request_resize(ui.size.width, ui.size.height);\n",
       "        },\n",
       "        stop: function(event, ui) {\n",
       "            pass_mouse_events = true;\n",
       "            fig.request_resize(ui.size.width, ui.size.height);\n",
       "        },\n",
       "    });\n",
       "\n",
       "    function mouse_event_fn(event) {\n",
       "        if (pass_mouse_events)\n",
       "            return fig.mouse_event(event, event['data']);\n",
       "    }\n",
       "\n",
       "    rubberband.mousedown('button_press', mouse_event_fn);\n",
       "    rubberband.mouseup('button_release', mouse_event_fn);\n",
       "    // Throttle sequential mouse events to 1 every 20ms.\n",
       "    rubberband.mousemove('motion_notify', mouse_event_fn);\n",
       "\n",
       "    rubberband.mouseenter('figure_enter', mouse_event_fn);\n",
       "    rubberband.mouseleave('figure_leave', mouse_event_fn);\n",
       "\n",
       "    canvas_div.on(\"wheel\", function (event) {\n",
       "        event = event.originalEvent;\n",
       "        event['data'] = 'scroll'\n",
       "        if (event.deltaY < 0) {\n",
       "            event.step = 1;\n",
       "        } else {\n",
       "            event.step = -1;\n",
       "        }\n",
       "        mouse_event_fn(event);\n",
       "    });\n",
       "\n",
       "    canvas_div.append(canvas);\n",
       "    canvas_div.append(rubberband);\n",
       "\n",
       "    this.rubberband = rubberband;\n",
       "    this.rubberband_canvas = rubberband[0];\n",
       "    this.rubberband_context = rubberband[0].getContext(\"2d\");\n",
       "    this.rubberband_context.strokeStyle = \"#000000\";\n",
       "\n",
       "    this._resize_canvas = function(width, height) {\n",
       "        // Keep the size of the canvas, canvas container, and rubber band\n",
       "        // canvas in synch.\n",
       "        canvas_div.css('width', width)\n",
       "        canvas_div.css('height', height)\n",
       "\n",
       "        canvas.attr('width', width);\n",
       "        canvas.attr('height', height);\n",
       "\n",
       "        rubberband.attr('width', width);\n",
       "        rubberband.attr('height', height);\n",
       "    }\n",
       "\n",
       "    // Set the figure to an initial 600x600px, this will subsequently be updated\n",
       "    // upon first draw.\n",
       "    this._resize_canvas(600, 600);\n",
       "\n",
       "    // Disable right mouse context menu.\n",
       "    $(this.rubberband_canvas).bind(\"contextmenu\",function(e){\n",
       "        return false;\n",
       "    });\n",
       "\n",
       "    function set_focus () {\n",
       "        canvas.focus();\n",
       "        canvas_div.focus();\n",
       "    }\n",
       "\n",
       "    window.setTimeout(set_focus, 100);\n",
       "}\n",
       "\n",
       "mpl.figure.prototype._init_toolbar = function() {\n",
       "    var fig = this;\n",
       "\n",
       "    var nav_element = $('<div/>')\n",
       "    nav_element.attr('style', 'width: 100%');\n",
       "    this.root.append(nav_element);\n",
       "\n",
       "    // Define a callback function for later on.\n",
       "    function toolbar_event(event) {\n",
       "        return fig.toolbar_button_onclick(event['data']);\n",
       "    }\n",
       "    function toolbar_mouse_event(event) {\n",
       "        return fig.toolbar_button_onmouseover(event['data']);\n",
       "    }\n",
       "\n",
       "    for(var toolbar_ind in mpl.toolbar_items) {\n",
       "        var name = mpl.toolbar_items[toolbar_ind][0];\n",
       "        var tooltip = mpl.toolbar_items[toolbar_ind][1];\n",
       "        var image = mpl.toolbar_items[toolbar_ind][2];\n",
       "        var method_name = mpl.toolbar_items[toolbar_ind][3];\n",
       "\n",
       "        if (!name) {\n",
       "            // put a spacer in here.\n",
       "            continue;\n",
       "        }\n",
       "        var button = $('<button/>');\n",
       "        button.addClass('ui-button ui-widget ui-state-default ui-corner-all ' +\n",
       "                        'ui-button-icon-only');\n",
       "        button.attr('role', 'button');\n",
       "        button.attr('aria-disabled', 'false');\n",
       "        button.click(method_name, toolbar_event);\n",
       "        button.mouseover(tooltip, toolbar_mouse_event);\n",
       "\n",
       "        var icon_img = $('<span/>');\n",
       "        icon_img.addClass('ui-button-icon-primary ui-icon');\n",
       "        icon_img.addClass(image);\n",
       "        icon_img.addClass('ui-corner-all');\n",
       "\n",
       "        var tooltip_span = $('<span/>');\n",
       "        tooltip_span.addClass('ui-button-text');\n",
       "        tooltip_span.html(tooltip);\n",
       "\n",
       "        button.append(icon_img);\n",
       "        button.append(tooltip_span);\n",
       "\n",
       "        nav_element.append(button);\n",
       "    }\n",
       "\n",
       "    var fmt_picker_span = $('<span/>');\n",
       "\n",
       "    var fmt_picker = $('<select/>');\n",
       "    fmt_picker.addClass('mpl-toolbar-option ui-widget ui-widget-content');\n",
       "    fmt_picker_span.append(fmt_picker);\n",
       "    nav_element.append(fmt_picker_span);\n",
       "    this.format_dropdown = fmt_picker[0];\n",
       "\n",
       "    for (var ind in mpl.extensions) {\n",
       "        var fmt = mpl.extensions[ind];\n",
       "        var option = $(\n",
       "            '<option/>', {selected: fmt === mpl.default_extension}).html(fmt);\n",
       "        fmt_picker.append(option)\n",
       "    }\n",
       "\n",
       "    // Add hover states to the ui-buttons\n",
       "    $( \".ui-button\" ).hover(\n",
       "        function() { $(this).addClass(\"ui-state-hover\");},\n",
       "        function() { $(this).removeClass(\"ui-state-hover\");}\n",
       "    );\n",
       "\n",
       "    var status_bar = $('<span class=\"mpl-message\"/>');\n",
       "    nav_element.append(status_bar);\n",
       "    this.message = status_bar[0];\n",
       "}\n",
       "\n",
       "mpl.figure.prototype.request_resize = function(x_pixels, y_pixels) {\n",
       "    // Request matplotlib to resize the figure. Matplotlib will then trigger a resize in the client,\n",
       "    // which will in turn request a refresh of the image.\n",
       "    this.send_message('resize', {'width': x_pixels, 'height': y_pixels});\n",
       "}\n",
       "\n",
       "mpl.figure.prototype.send_message = function(type, properties) {\n",
       "    properties['type'] = type;\n",
       "    properties['figure_id'] = this.id;\n",
       "    this.ws.send(JSON.stringify(properties));\n",
       "}\n",
       "\n",
       "mpl.figure.prototype.send_draw_message = function() {\n",
       "    if (!this.waiting) {\n",
       "        this.waiting = true;\n",
       "        this.ws.send(JSON.stringify({type: \"draw\", figure_id: this.id}));\n",
       "    }\n",
       "}\n",
       "\n",
       "\n",
       "mpl.figure.prototype.handle_save = function(fig, msg) {\n",
       "    var format_dropdown = fig.format_dropdown;\n",
       "    var format = format_dropdown.options[format_dropdown.selectedIndex].value;\n",
       "    fig.ondownload(fig, format);\n",
       "}\n",
       "\n",
       "\n",
       "mpl.figure.prototype.handle_resize = function(fig, msg) {\n",
       "    var size = msg['size'];\n",
       "    if (size[0] != fig.canvas.width || size[1] != fig.canvas.height) {\n",
       "        fig._resize_canvas(size[0], size[1]);\n",
       "        fig.send_message(\"refresh\", {});\n",
       "    };\n",
       "}\n",
       "\n",
       "mpl.figure.prototype.handle_rubberband = function(fig, msg) {\n",
       "    var x0 = msg['x0'];\n",
       "    var y0 = fig.canvas.height - msg['y0'];\n",
       "    var x1 = msg['x1'];\n",
       "    var y1 = fig.canvas.height - msg['y1'];\n",
       "    x0 = Math.floor(x0) + 0.5;\n",
       "    y0 = Math.floor(y0) + 0.5;\n",
       "    x1 = Math.floor(x1) + 0.5;\n",
       "    y1 = Math.floor(y1) + 0.5;\n",
       "    var min_x = Math.min(x0, x1);\n",
       "    var min_y = Math.min(y0, y1);\n",
       "    var width = Math.abs(x1 - x0);\n",
       "    var height = Math.abs(y1 - y0);\n",
       "\n",
       "    fig.rubberband_context.clearRect(\n",
       "        0, 0, fig.canvas.width, fig.canvas.height);\n",
       "\n",
       "    fig.rubberband_context.strokeRect(min_x, min_y, width, height);\n",
       "}\n",
       "\n",
       "mpl.figure.prototype.handle_figure_label = function(fig, msg) {\n",
       "    // Updates the figure title.\n",
       "    fig.header.textContent = msg['label'];\n",
       "}\n",
       "\n",
       "mpl.figure.prototype.handle_cursor = function(fig, msg) {\n",
       "    var cursor = msg['cursor'];\n",
       "    switch(cursor)\n",
       "    {\n",
       "    case 0:\n",
       "        cursor = 'pointer';\n",
       "        break;\n",
       "    case 1:\n",
       "        cursor = 'default';\n",
       "        break;\n",
       "    case 2:\n",
       "        cursor = 'crosshair';\n",
       "        break;\n",
       "    case 3:\n",
       "        cursor = 'move';\n",
       "        break;\n",
       "    }\n",
       "    fig.rubberband_canvas.style.cursor = cursor;\n",
       "}\n",
       "\n",
       "mpl.figure.prototype.handle_message = function(fig, msg) {\n",
       "    fig.message.textContent = msg['message'];\n",
       "}\n",
       "\n",
       "mpl.figure.prototype.handle_draw = function(fig, msg) {\n",
       "    // Request the server to send over a new figure.\n",
       "    fig.send_draw_message();\n",
       "}\n",
       "\n",
       "mpl.figure.prototype.handle_image_mode = function(fig, msg) {\n",
       "    fig.image_mode = msg['mode'];\n",
       "}\n",
       "\n",
       "mpl.figure.prototype.updated_canvas_event = function() {\n",
       "    // Called whenever the canvas gets updated.\n",
       "    this.send_message(\"ack\", {});\n",
       "}\n",
       "\n",
       "// A function to construct a web socket function for onmessage handling.\n",
       "// Called in the figure constructor.\n",
       "mpl.figure.prototype._make_on_message_function = function(fig) {\n",
       "    return function socket_on_message(evt) {\n",
       "        if (evt.data instanceof Blob) {\n",
       "            /* FIXME: We get \"Resource interpreted as Image but\n",
       "             * transferred with MIME type text/plain:\" errors on\n",
       "             * Chrome.  But how to set the MIME type?  It doesn't seem\n",
       "             * to be part of the websocket stream */\n",
       "            evt.data.type = \"image/png\";\n",
       "\n",
       "            /* Free the memory for the previous frames */\n",
       "            if (fig.imageObj.src) {\n",
       "                (window.URL || window.webkitURL).revokeObjectURL(\n",
       "                    fig.imageObj.src);\n",
       "            }\n",
       "\n",
       "            fig.imageObj.src = (window.URL || window.webkitURL).createObjectURL(\n",
       "                evt.data);\n",
       "            fig.updated_canvas_event();\n",
       "            fig.waiting = false;\n",
       "            return;\n",
       "        }\n",
       "        else if (typeof evt.data === 'string' && evt.data.slice(0, 21) == \"data:image/png;base64\") {\n",
       "            fig.imageObj.src = evt.data;\n",
       "            fig.updated_canvas_event();\n",
       "            fig.waiting = false;\n",
       "            return;\n",
       "        }\n",
       "\n",
       "        var msg = JSON.parse(evt.data);\n",
       "        var msg_type = msg['type'];\n",
       "\n",
       "        // Call the  \"handle_{type}\" callback, which takes\n",
       "        // the figure and JSON message as its only arguments.\n",
       "        try {\n",
       "            var callback = fig[\"handle_\" + msg_type];\n",
       "        } catch (e) {\n",
       "            console.log(\"No handler for the '\" + msg_type + \"' message type: \", msg);\n",
       "            return;\n",
       "        }\n",
       "\n",
       "        if (callback) {\n",
       "            try {\n",
       "                // console.log(\"Handling '\" + msg_type + \"' message: \", msg);\n",
       "                callback(fig, msg);\n",
       "            } catch (e) {\n",
       "                console.log(\"Exception inside the 'handler_\" + msg_type + \"' callback:\", e, e.stack, msg);\n",
       "            }\n",
       "        }\n",
       "    };\n",
       "}\n",
       "\n",
       "// from http://stackoverflow.com/questions/1114465/getting-mouse-location-in-canvas\n",
       "mpl.findpos = function(e) {\n",
       "    //this section is from http://www.quirksmode.org/js/events_properties.html\n",
       "    var targ;\n",
       "    if (!e)\n",
       "        e = window.event;\n",
       "    if (e.target)\n",
       "        targ = e.target;\n",
       "    else if (e.srcElement)\n",
       "        targ = e.srcElement;\n",
       "    if (targ.nodeType == 3) // defeat Safari bug\n",
       "        targ = targ.parentNode;\n",
       "\n",
       "    // jQuery normalizes the pageX and pageY\n",
       "    // pageX,Y are the mouse positions relative to the document\n",
       "    // offset() returns the position of the element relative to the document\n",
       "    var x = e.pageX - $(targ).offset().left;\n",
       "    var y = e.pageY - $(targ).offset().top;\n",
       "\n",
       "    return {\"x\": x, \"y\": y};\n",
       "};\n",
       "\n",
       "/*\n",
       " * return a copy of an object with only non-object keys\n",
       " * we need this to avoid circular references\n",
       " * http://stackoverflow.com/a/24161582/3208463\n",
       " */\n",
       "function simpleKeys (original) {\n",
       "  return Object.keys(original).reduce(function (obj, key) {\n",
       "    if (typeof original[key] !== 'object')\n",
       "        obj[key] = original[key]\n",
       "    return obj;\n",
       "  }, {});\n",
       "}\n",
       "\n",
       "mpl.figure.prototype.mouse_event = function(event, name) {\n",
       "    var canvas_pos = mpl.findpos(event)\n",
       "\n",
       "    if (name === 'button_press')\n",
       "    {\n",
       "        this.canvas.focus();\n",
       "        this.canvas_div.focus();\n",
       "    }\n",
       "\n",
       "    var x = canvas_pos.x;\n",
       "    var y = canvas_pos.y;\n",
       "\n",
       "    this.send_message(name, {x: x, y: y, button: event.button,\n",
       "                             step: event.step,\n",
       "                             guiEvent: simpleKeys(event)});\n",
       "\n",
       "    /* This prevents the web browser from automatically changing to\n",
       "     * the text insertion cursor when the button is pressed.  We want\n",
       "     * to control all of the cursor setting manually through the\n",
       "     * 'cursor' event from matplotlib */\n",
       "    event.preventDefault();\n",
       "    return false;\n",
       "}\n",
       "\n",
       "mpl.figure.prototype._key_event_extra = function(event, name) {\n",
       "    // Handle any extra behaviour associated with a key event\n",
       "}\n",
       "\n",
       "mpl.figure.prototype.key_event = function(event, name) {\n",
       "\n",
       "    // Prevent repeat events\n",
       "    if (name == 'key_press')\n",
       "    {\n",
       "        if (event.which === this._key)\n",
       "            return;\n",
       "        else\n",
       "            this._key = event.which;\n",
       "    }\n",
       "    if (name == 'key_release')\n",
       "        this._key = null;\n",
       "\n",
       "    var value = '';\n",
       "    if (event.ctrlKey && event.which != 17)\n",
       "        value += \"ctrl+\";\n",
       "    if (event.altKey && event.which != 18)\n",
       "        value += \"alt+\";\n",
       "    if (event.shiftKey && event.which != 16)\n",
       "        value += \"shift+\";\n",
       "\n",
       "    value += 'k';\n",
       "    value += event.which.toString();\n",
       "\n",
       "    this._key_event_extra(event, name);\n",
       "\n",
       "    this.send_message(name, {key: value,\n",
       "                             guiEvent: simpleKeys(event)});\n",
       "    return false;\n",
       "}\n",
       "\n",
       "mpl.figure.prototype.toolbar_button_onclick = function(name) {\n",
       "    if (name == 'download') {\n",
       "        this.handle_save(this, null);\n",
       "    } else {\n",
       "        this.send_message(\"toolbar_button\", {name: name});\n",
       "    }\n",
       "};\n",
       "\n",
       "mpl.figure.prototype.toolbar_button_onmouseover = function(tooltip) {\n",
       "    this.message.textContent = tooltip;\n",
       "};\n",
       "mpl.toolbar_items = [[\"Home\", \"Reset original view\", \"fa fa-home icon-home\", \"home\"], [\"Back\", \"Back to  previous view\", \"fa fa-arrow-left icon-arrow-left\", \"back\"], [\"Forward\", \"Forward to next view\", \"fa fa-arrow-right icon-arrow-right\", \"forward\"], [\"\", \"\", \"\", \"\"], [\"Pan\", \"Pan axes with left mouse, zoom with right\", \"fa fa-arrows icon-move\", \"pan\"], [\"Zoom\", \"Zoom to rectangle\", \"fa fa-square-o icon-check-empty\", \"zoom\"], [\"\", \"\", \"\", \"\"], [\"Download\", \"Download plot\", \"fa fa-floppy-o icon-save\", \"download\"]];\n",
       "\n",
       "mpl.extensions = [\"eps\", \"jpeg\", \"pdf\", \"png\", \"ps\", \"raw\", \"svg\", \"tif\"];\n",
       "\n",
       "mpl.default_extension = \"png\";var comm_websocket_adapter = function(comm) {\n",
       "    // Create a \"websocket\"-like object which calls the given IPython comm\n",
       "    // object with the appropriate methods. Currently this is a non binary\n",
       "    // socket, so there is still some room for performance tuning.\n",
       "    var ws = {};\n",
       "\n",
       "    ws.close = function() {\n",
       "        comm.close()\n",
       "    };\n",
       "    ws.send = function(m) {\n",
       "        //console.log('sending', m);\n",
       "        comm.send(m);\n",
       "    };\n",
       "    // Register the callback with on_msg.\n",
       "    comm.on_msg(function(msg) {\n",
       "        //console.log('receiving', msg['content']['data'], msg);\n",
       "        // Pass the mpl event to the overriden (by mpl) onmessage function.\n",
       "        ws.onmessage(msg['content']['data'])\n",
       "    });\n",
       "    return ws;\n",
       "}\n",
       "\n",
       "mpl.mpl_figure_comm = function(comm, msg) {\n",
       "    // This is the function which gets called when the mpl process\n",
       "    // starts-up an IPython Comm through the \"matplotlib\" channel.\n",
       "\n",
       "    var id = msg.content.data.id;\n",
       "    // Get hold of the div created by the display call when the Comm\n",
       "    // socket was opened in Python.\n",
       "    var element = $(\"#\" + id);\n",
       "    var ws_proxy = comm_websocket_adapter(comm)\n",
       "\n",
       "    function ondownload(figure, format) {\n",
       "        window.open(figure.imageObj.src);\n",
       "    }\n",
       "\n",
       "    var fig = new mpl.figure(id, ws_proxy,\n",
       "                           ondownload,\n",
       "                           element.get(0));\n",
       "\n",
       "    // Call onopen now - mpl needs it, as it is assuming we've passed it a real\n",
       "    // web socket which is closed, not our websocket->open comm proxy.\n",
       "    ws_proxy.onopen();\n",
       "\n",
       "    fig.parent_element = element.get(0);\n",
       "    fig.cell_info = mpl.find_output_cell(\"<div id='\" + id + \"'></div>\");\n",
       "    if (!fig.cell_info) {\n",
       "        console.error(\"Failed to find cell for figure\", id, fig);\n",
       "        return;\n",
       "    }\n",
       "\n",
       "    var output_index = fig.cell_info[2]\n",
       "    var cell = fig.cell_info[0];\n",
       "\n",
       "};\n",
       "\n",
       "mpl.figure.prototype.handle_close = function(fig, msg) {\n",
       "    fig.root.unbind('remove')\n",
       "\n",
       "    // Update the output cell to use the data from the current canvas.\n",
       "    fig.push_to_output();\n",
       "    var dataURL = fig.canvas.toDataURL();\n",
       "    // Re-enable the keyboard manager in IPython - without this line, in FF,\n",
       "    // the notebook keyboard shortcuts fail.\n",
       "    IPython.keyboard_manager.enable()\n",
       "    $(fig.parent_element).html('<img src=\"' + dataURL + '\">');\n",
       "    fig.close_ws(fig, msg);\n",
       "}\n",
       "\n",
       "mpl.figure.prototype.close_ws = function(fig, msg){\n",
       "    fig.send_message('closing', msg);\n",
       "    // fig.ws.close()\n",
       "}\n",
       "\n",
       "mpl.figure.prototype.push_to_output = function(remove_interactive) {\n",
       "    // Turn the data on the canvas into data in the output cell.\n",
       "    var dataURL = this.canvas.toDataURL();\n",
       "    this.cell_info[1]['text/html'] = '<img src=\"' + dataURL + '\">';\n",
       "}\n",
       "\n",
       "mpl.figure.prototype.updated_canvas_event = function() {\n",
       "    // Tell IPython that the notebook contents must change.\n",
       "    IPython.notebook.set_dirty(true);\n",
       "    this.send_message(\"ack\", {});\n",
       "    var fig = this;\n",
       "    // Wait a second, then push the new image to the DOM so\n",
       "    // that it is saved nicely (might be nice to debounce this).\n",
       "    setTimeout(function () { fig.push_to_output() }, 1000);\n",
       "}\n",
       "\n",
       "mpl.figure.prototype._init_toolbar = function() {\n",
       "    var fig = this;\n",
       "\n",
       "    var nav_element = $('<div/>')\n",
       "    nav_element.attr('style', 'width: 100%');\n",
       "    this.root.append(nav_element);\n",
       "\n",
       "    // Define a callback function for later on.\n",
       "    function toolbar_event(event) {\n",
       "        return fig.toolbar_button_onclick(event['data']);\n",
       "    }\n",
       "    function toolbar_mouse_event(event) {\n",
       "        return fig.toolbar_button_onmouseover(event['data']);\n",
       "    }\n",
       "\n",
       "    for(var toolbar_ind in mpl.toolbar_items){\n",
       "        var name = mpl.toolbar_items[toolbar_ind][0];\n",
       "        var tooltip = mpl.toolbar_items[toolbar_ind][1];\n",
       "        var image = mpl.toolbar_items[toolbar_ind][2];\n",
       "        var method_name = mpl.toolbar_items[toolbar_ind][3];\n",
       "\n",
       "        if (!name) { continue; };\n",
       "\n",
       "        var button = $('<button class=\"btn btn-default\" href=\"#\" title=\"' + name + '\"><i class=\"fa ' + image + ' fa-lg\"></i></button>');\n",
       "        button.click(method_name, toolbar_event);\n",
       "        button.mouseover(tooltip, toolbar_mouse_event);\n",
       "        nav_element.append(button);\n",
       "    }\n",
       "\n",
       "    // Add the status bar.\n",
       "    var status_bar = $('<span class=\"mpl-message\" style=\"text-align:right; float: right;\"/>');\n",
       "    nav_element.append(status_bar);\n",
       "    this.message = status_bar[0];\n",
       "\n",
       "    // Add the close button to the window.\n",
       "    var buttongrp = $('<div class=\"btn-group inline pull-right\"></div>');\n",
       "    var button = $('<button class=\"btn btn-mini btn-primary\" href=\"#\" title=\"Stop Interaction\"><i class=\"fa fa-power-off icon-remove icon-large\"></i></button>');\n",
       "    button.click(function (evt) { fig.handle_close(fig, {}); } );\n",
       "    button.mouseover('Stop Interaction', toolbar_mouse_event);\n",
       "    buttongrp.append(button);\n",
       "    var titlebar = this.root.find($('.ui-dialog-titlebar'));\n",
       "    titlebar.prepend(buttongrp);\n",
       "}\n",
       "\n",
       "mpl.figure.prototype._root_extra_style = function(el){\n",
       "    var fig = this\n",
       "    el.on(\"remove\", function(){\n",
       "\tfig.close_ws(fig, {});\n",
       "    });\n",
       "}\n",
       "\n",
       "mpl.figure.prototype._canvas_extra_style = function(el){\n",
       "    // this is important to make the div 'focusable\n",
       "    el.attr('tabindex', 0)\n",
       "    // reach out to IPython and tell the keyboard manager to turn it's self\n",
       "    // off when our div gets focus\n",
       "\n",
       "    // location in version 3\n",
       "    if (IPython.notebook.keyboard_manager) {\n",
       "        IPython.notebook.keyboard_manager.register_events(el);\n",
       "    }\n",
       "    else {\n",
       "        // location in version 2\n",
       "        IPython.keyboard_manager.register_events(el);\n",
       "    }\n",
       "\n",
       "}\n",
       "\n",
       "mpl.figure.prototype._key_event_extra = function(event, name) {\n",
       "    var manager = IPython.notebook.keyboard_manager;\n",
       "    if (!manager)\n",
       "        manager = IPython.keyboard_manager;\n",
       "\n",
       "    // Check for shift+enter\n",
       "    if (event.shiftKey && event.which == 13) {\n",
       "        this.canvas_div.blur();\n",
       "        event.shiftKey = false;\n",
       "        // Send a \"J\" for go to next cell\n",
       "        event.which = 74;\n",
       "        event.keyCode = 74;\n",
       "        manager.command_mode();\n",
       "        manager.handle_keydown(event);\n",
       "    }\n",
       "}\n",
       "\n",
       "mpl.figure.prototype.handle_save = function(fig, msg) {\n",
       "    fig.ondownload(fig, null);\n",
       "}\n",
       "\n",
       "\n",
       "mpl.find_output_cell = function(html_output) {\n",
       "    // Return the cell and output element which can be found *uniquely* in the notebook.\n",
       "    // Note - this is a bit hacky, but it is done because the \"notebook_saving.Notebook\"\n",
       "    // IPython event is triggered only after the cells have been serialised, which for\n",
       "    // our purposes (turning an active figure into a static one), is too late.\n",
       "    var cells = IPython.notebook.get_cells();\n",
       "    var ncells = cells.length;\n",
       "    for (var i=0; i<ncells; i++) {\n",
       "        var cell = cells[i];\n",
       "        if (cell.cell_type === 'code'){\n",
       "            for (var j=0; j<cell.output_area.outputs.length; j++) {\n",
       "                var data = cell.output_area.outputs[j];\n",
       "                if (data.data) {\n",
       "                    // IPython >= 3 moved mimebundle to data attribute of output\n",
       "                    data = data.data;\n",
       "                }\n",
       "                if (data['text/html'] == html_output) {\n",
       "                    return [cell, data, j];\n",
       "                }\n",
       "            }\n",
       "        }\n",
       "    }\n",
       "}\n",
       "\n",
       "// Register the function which deals with the matplotlib target/channel.\n",
       "// The kernel may be null if the page has been refreshed.\n",
       "if (IPython.notebook.kernel != null) {\n",
       "    IPython.notebook.kernel.comm_manager.register_target('matplotlib', mpl.mpl_figure_comm);\n",
       "}\n"
      ],
      "text/plain": [
       "<IPython.core.display.Javascript object>"
      ]
     },
     "metadata": {},
     "output_type": "display_data"
    },
    {
     "data": {
      "text/html": [
       "<img src=\"data:image/png;base64,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\">"
      ],
      "text/plain": [
       "<IPython.core.display.HTML object>"
      ]
     },
     "metadata": {},
     "output_type": "display_data"
    }
   ],
   "source": [
    "amap = sunpy.map.Map(AIA_171_ROLL_IMAGE)\n",
    "\n",
    "im = amap.plot()\n",
    "ax = plt.gca()\n",
    "ax.set_autoscale_on(False)\n",
    "\n",
    "x = 500*u.arcsec\n",
    "y = -300*u.arcsec\n",
    "\n",
    "ax.plot(x.to(u.deg),y.to(u.deg),'o',transform=ax.get_transform('world'))\n",
    "plt.show()"
   ]
  },
  {
   "cell_type": "code",
   "execution_count": 7,
   "metadata": {
    "autoscroll": "json-false",
    "collapsed": false,
    "ein.tags": [
     "worksheet-0"
    ]
   },
   "outputs": [
    {
     "name": "stderr",
     "output_type": "stream",
     "text": [
      "ERROR: TypeError: ufunc 'multiply' output (typecode 'O') could not be coerced to provided output parameter (typecode 'd') according to the casting rule ''same_kind'' [sunpy.map.mapbase]\n",
      "ERROR:astropy:TypeError: ufunc 'multiply' output (typecode 'O') could not be coerced to provided output parameter (typecode 'd') according to the casting rule ''same_kind''\n"
     ]
    },
    {
     "ename": "TypeError",
     "evalue": "ufunc 'multiply' output (typecode 'O') could not be coerced to provided output parameter (typecode 'd') according to the casting rule ''same_kind''",
     "output_type": "error",
     "traceback": [
      "\u001b[1;31m---------------------------------------------------------------------------\u001b[0m",
      "\u001b[1;31mTypeError\u001b[0m                                 Traceback (most recent call last)",
      "\u001b[1;32m<ipython-input-7-5e710828e507>\u001b[0m in \u001b[0;36m<module>\u001b[1;34m()\u001b[0m\n\u001b[1;32m----> 1\u001b[1;33m \u001b[0mamap\u001b[0m\u001b[1;33m.\u001b[0m\u001b[0mpixel_to_data\u001b[0m\u001b[1;33m(\u001b[0m\u001b[1;36m100.0\u001b[0m\u001b[1;33m*\u001b[0m\u001b[0mu\u001b[0m\u001b[1;33m.\u001b[0m\u001b[0mpix\u001b[0m\u001b[1;33m,\u001b[0m\u001b[1;36m100.0\u001b[0m\u001b[1;33m*\u001b[0m\u001b[0mu\u001b[0m\u001b[1;33m.\u001b[0m\u001b[0mpix\u001b[0m\u001b[1;33m)\u001b[0m\u001b[1;33m\u001b[0m\u001b[0m\n\u001b[0m",
      "\u001b[1;32mC:\\Users\\Luke\\Anaconda2\\lib\\site-packages\\astropy\\utils\\decorators.py\u001b[0m in \u001b[0;36mpixel_to_data\u001b[1;34m(self, x, y, origin)\u001b[0m\n\u001b[0;32m    677\u001b[0m             \u001b[0mname\u001b[0m \u001b[1;33m=\u001b[0m \u001b[0mfunc\u001b[0m\u001b[1;33m.\u001b[0m\u001b[0m__name__\u001b[0m\u001b[1;33m\u001b[0m\u001b[0m\n\u001b[0;32m    678\u001b[0m \u001b[1;33m\u001b[0m\u001b[0m\n\u001b[1;32m--> 679\u001b[1;33m         \u001b[0mfunc\u001b[0m \u001b[1;33m=\u001b[0m \u001b[0mmake_function_with_signature\u001b[0m\u001b[1;33m(\u001b[0m\u001b[0mfunc\u001b[0m\u001b[1;33m,\u001b[0m \u001b[0mname\u001b[0m\u001b[1;33m=\u001b[0m\u001b[0mname\u001b[0m\u001b[1;33m,\u001b[0m \u001b[1;33m**\u001b[0m\u001b[0mwrapped_args\u001b[0m\u001b[1;33m)\u001b[0m\u001b[1;33m\u001b[0m\u001b[0m\n\u001b[0m\u001b[0;32m    680\u001b[0m         func = functools.update_wrapper(func, wrapped, assigned=assigned,\n\u001b[0;32m    681\u001b[0m                                         updated=updated)\n",
      "\u001b[1;32mC:\\Users\\Luke\\Anaconda2\\lib\\site-packages\\astropy\\units\\decorators.pyc\u001b[0m in \u001b[0;36mwrapper\u001b[1;34m(*func_args, **func_kwargs)\u001b[0m\n\u001b[0;32m    128\u001b[0m             \u001b[1;31m# Call the original function with any equivalencies in force.\u001b[0m\u001b[1;33m\u001b[0m\u001b[1;33m\u001b[0m\u001b[0m\n\u001b[0;32m    129\u001b[0m             \u001b[1;32mwith\u001b[0m \u001b[0madd_enabled_equivalencies\u001b[0m\u001b[1;33m(\u001b[0m\u001b[0mself\u001b[0m\u001b[1;33m.\u001b[0m\u001b[0mequivalencies\u001b[0m\u001b[1;33m)\u001b[0m\u001b[1;33m:\u001b[0m\u001b[1;33m\u001b[0m\u001b[0m\n\u001b[1;32m--> 130\u001b[1;33m                 \u001b[1;32mreturn\u001b[0m \u001b[0mwrapped_function\u001b[0m\u001b[1;33m(\u001b[0m\u001b[1;33m*\u001b[0m\u001b[0mfunc_args\u001b[0m\u001b[1;33m,\u001b[0m \u001b[1;33m**\u001b[0m\u001b[0mfunc_kwargs\u001b[0m\u001b[1;33m)\u001b[0m\u001b[1;33m\u001b[0m\u001b[0m\n\u001b[0m\u001b[0;32m    131\u001b[0m \u001b[1;33m\u001b[0m\u001b[0m\n\u001b[0;32m    132\u001b[0m         \u001b[1;32mreturn\u001b[0m \u001b[0mwrapper\u001b[0m\u001b[1;33m\u001b[0m\u001b[0m\n",
      "\u001b[1;32mc:\\users\\luke\\anaconda2\\lib\\site-packages\\sunpy-0.6.1-py2.7.egg\\sunpy\\map\\mapbase.pyc\u001b[0m in \u001b[0;36mpixel_to_data\u001b[1;34m(self, x, y, origin)\u001b[0m\n\u001b[0;32m    603\u001b[0m \u001b[1;33m\u001b[0m\u001b[0m\n\u001b[0;32m    604\u001b[0m         \u001b[1;31m# WCS always outputs degrees.\u001b[0m\u001b[1;33m\u001b[0m\u001b[1;33m\u001b[0m\u001b[0m\n\u001b[1;32m--> 605\u001b[1;33m         \u001b[0mx\u001b[0m \u001b[1;33m*=\u001b[0m \u001b[0mu\u001b[0m\u001b[1;33m.\u001b[0m\u001b[0mdeg\u001b[0m\u001b[1;33m\u001b[0m\u001b[0m\n\u001b[0m\u001b[0;32m    606\u001b[0m         \u001b[0my\u001b[0m \u001b[1;33m*=\u001b[0m \u001b[0mu\u001b[0m\u001b[1;33m.\u001b[0m\u001b[0mdeg\u001b[0m\u001b[1;33m\u001b[0m\u001b[0m\n\u001b[0;32m    607\u001b[0m \u001b[1;33m\u001b[0m\u001b[0m\n",
      "\u001b[1;31mTypeError\u001b[0m: ufunc 'multiply' output (typecode 'O') could not be coerced to provided output parameter (typecode 'd') according to the casting rule ''same_kind''"
     ]
    }
   ],
   "source": [
    "amap.pixel_to_data(100.0*u.pix,100.0*u.pix)"
   ]
  },
  {
   "cell_type": "code",
   "execution_count": null,
   "metadata": {
    "autoscroll": "json-false",
    "collapsed": false,
    "ein.tags": [
     "worksheet-0"
    ],
    "scrolled": true
   },
   "outputs": [],
   "source": []
  },
  {
   "cell_type": "markdown",
   "metadata": {
    "ein.tags": [
     "worksheet-0"
    ]
   },
   "source": [
    "<section class=\"objectives panel panel-success\">\n",
    "<div class=\"panel-heading\">\n",
    "<h2><span class=\"fa fa-pencil\"></span> Rotate your Owl </h2>\n",
    "</div>\n",
    "Why is the Sun wonky?\n",
    "\n",
    "Use the [`rotate()`](http://docs.sunpy.org/en/stable/code_ref/map.html#sunpy.map.mapbase.GenericMap.rotate) method of SunPy Map to align the coordinate grid to the pixel grid in this sample image.\n",
    "\n",
    "Once you have run rotate, plot the resulting image, and compare with the one above.\n",
    "</section>"
   ]
  },
  {
   "cell_type": "code",
   "execution_count": null,
   "metadata": {
    "collapsed": false
   },
   "outputs": [],
   "source": []
  }
 ],
 "metadata": {
  "kernelspec": {
   "display_name": "Python 2",
   "language": "python",
   "name": "python2"
  },
  "language_info": {
   "codemirror_mode": {
    "name": "ipython",
    "version": 2
   },
   "file_extension": ".py",
   "mimetype": "text/x-python",
   "name": "python",
   "nbconvert_exporter": "python",
   "pygments_lexer": "ipython2",
   "version": "2.7.11"
  },
  "name": "Astro_Images.ipynb"
 },
 "nbformat": 4,
 "nbformat_minor": 0
}
